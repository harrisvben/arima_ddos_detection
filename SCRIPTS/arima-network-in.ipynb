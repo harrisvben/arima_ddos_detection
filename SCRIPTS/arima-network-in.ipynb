{
 "cells": [
  {
   "cell_type": "code",
   "execution_count": 1,
   "metadata": {},
   "outputs": [],
   "source": [
    "import pandas as pd\n",
    "import matplotlib.pyplot as plt\n",
    "from statsmodels.tsa.stattools import adfuller\n",
    "from statsmodels.graphics.tsaplots import plot_acf, plot_pacf\n",
    "from statsmodels.tsa.arima.model import ARIMA\n",
    "from sklearn.metrics import mean_squared_error\n",
    "import numpy as np\n",
    "from joblib import Parallel, delayed\n"
   ]
  },
  {
   "cell_type": "code",
   "execution_count": 2,
   "metadata": {},
   "outputs": [
    {
     "data": {
      "text/html": [
       "<div>\n",
       "<style scoped>\n",
       "    .dataframe tbody tr th:only-of-type {\n",
       "        vertical-align: middle;\n",
       "    }\n",
       "\n",
       "    .dataframe tbody tr th {\n",
       "        vertical-align: top;\n",
       "    }\n",
       "\n",
       "    .dataframe thead th {\n",
       "        text-align: right;\n",
       "    }\n",
       "</style>\n",
       "<table border=\"1\" class=\"dataframe\">\n",
       "  <thead>\n",
       "    <tr style=\"text-align: right;\">\n",
       "      <th></th>\n",
       "      <th>timestamp</th>\n",
       "      <th>value</th>\n",
       "    </tr>\n",
       "  </thead>\n",
       "  <tbody>\n",
       "    <tr>\n",
       "      <th>0</th>\n",
       "      <td>2014-03-01 17:36:00</td>\n",
       "      <td>42.0</td>\n",
       "    </tr>\n",
       "    <tr>\n",
       "      <th>1</th>\n",
       "      <td>2014-03-01 17:41:00</td>\n",
       "      <td>94.8</td>\n",
       "    </tr>\n",
       "    <tr>\n",
       "      <th>2</th>\n",
       "      <td>2014-03-01 17:46:00</td>\n",
       "      <td>42.0</td>\n",
       "    </tr>\n",
       "    <tr>\n",
       "      <th>3</th>\n",
       "      <td>2014-03-01 17:51:00</td>\n",
       "      <td>68.4</td>\n",
       "    </tr>\n",
       "    <tr>\n",
       "      <th>4</th>\n",
       "      <td>2014-03-01 17:56:00</td>\n",
       "      <td>68.4</td>\n",
       "    </tr>\n",
       "  </tbody>\n",
       "</table>\n",
       "</div>"
      ],
      "text/plain": [
       "             timestamp  value\n",
       "0  2014-03-01 17:36:00   42.0\n",
       "1  2014-03-01 17:41:00   94.8\n",
       "2  2014-03-01 17:46:00   42.0\n",
       "3  2014-03-01 17:51:00   68.4\n",
       "4  2014-03-01 17:56:00   68.4"
      ]
     },
     "execution_count": 2,
     "metadata": {},
     "output_type": "execute_result"
    }
   ],
   "source": [
    "network_in_df = pd.read_csv(\"/Users/christinetsai/Desktop/ds4002/02-time-series-project/ds4002-project2/DATA/ec2_network_in_5abac7.csv\")\n",
    "network_in_df.head()"
   ]
  },
  {
   "cell_type": "code",
   "execution_count": 3,
   "metadata": {},
   "outputs": [],
   "source": [
    "# make sure timestamp col is datetime type\n",
    "network_in_df[\"timestamp\"]=pd.to_datetime(network_in_df[\"timestamp\"])"
   ]
  },
  {
   "cell_type": "code",
   "execution_count": 4,
   "metadata": {},
   "outputs": [
    {
     "name": "stdout",
     "output_type": "stream",
     "text": [
      "ADF Statistic (Original): -8.3609\n",
      "p-value (Original): 0.0000\n",
      "Interpretation: The original series is Stationary.\n",
      "\n",
      "ADF Statistic (Differenced): -20.1097\n",
      "p-value (Differenced): 0.0000\n",
      "Interpretation: The differenced series is Stationary.\n"
     ]
    }
   ],
   "source": [
    "# Perform the Augmented Dickey-Fuller test on the original series\n",
    "result_original = adfuller(network_in_df[\"value\"])\n",
    "\n",
    "print(f\"ADF Statistic (Original): {result_original[0]:.4f}\")\n",
    "print(f\"p-value (Original): {result_original[1]:.4f}\")\n",
    "\n",
    "if result_original[1] < 0.05:\n",
    "    print(\"Interpretation: The original series is Stationary.\\n\")\n",
    "else:\n",
    "    print(\"Interpretation: The original series is Non-Stationary.\\n\")\n",
    "\n",
    "# Apply first-order differencing\n",
    "network_in_df['val_diff'] = network_in_df['value'].diff()\n",
    "\n",
    "# Perform the Augmented Dickey-Fuller test on the differenced series\n",
    "result_diff = adfuller(network_in_df[\"val_diff\"].dropna())\n",
    "print(f\"ADF Statistic (Differenced): {result_diff[0]:.4f}\")\n",
    "print(f\"p-value (Differenced): {result_diff[1]:.4f}\")\n",
    "if result_diff[1] < 0.05:\n",
    "    print(\"Interpretation: The differenced series is Stationary.\")\n",
    "else:\n",
    "    print(\"Interpretation: The differenced series is Non-Stationary.\")"
   ]
  },
  {
   "cell_type": "code",
   "execution_count": 12,
   "metadata": {},
   "outputs": [],
   "source": [
    "# max values for p, d, and q\n",
    "max_p, max_d, max_q = 5, 2, 5\n",
    "\n",
    "def get_order_sets(n, n_per_set) -> list:\n",
    "    n_sets = [i for i in range(n)]\n",
    "    order_sets = [\n",
    "        n_sets[i:i + n_per_set]\n",
    "        for i in range(0, n, n_per_set)\n",
    "    ]\n",
    "    return order_sets\n",
    "\n",
    "def find_aic_for_model(data, p, d, q, model, model_name):\n",
    "    try:\n",
    "        msg = f\"Fitting {model_name} with order (p, d, q) = ({p}, {d}, {q})\"\n",
    "        print(msg)\n",
    "        \n",
    "        # Avoid refitting if p=0, d=0, and q=1\n",
    "        if (p, d, q) == (0, 0, 1):\n",
    "            return None, (p, d, q)\n",
    "        \n",
    "        # Fit ARIMA model\n",
    "        ts_results = model(data, order=(p, d, q)).fit()\n",
    "        curr_aic = ts_results.aic\n",
    "        return curr_aic, (p, d, q)\n",
    "    \n",
    "    except Exception as e:\n",
    "        print(f\"Exception occurred for (p, d, q) = ({p}, {d}, {q}): {e}\")\n",
    "        return None, (p, d, q)\n",
    "\n",
    "def find_best_order_for_model(data, model, model_name):\n",
    "    p_ar, d_diff, q_ma = max_p, max_d, max_q\n",
    "    final_results = []\n",
    "\n",
    "    # Initial fit with ARIMA(0, 1, 0)\n",
    "    ts_results = model(data, order=(0, 1, 0)).fit()\n",
    "    min_aic = ts_results.aic\n",
    "    final_results.append((min_aic, (0, 1, 0)))\n",
    "    \n",
    "    # Create order sets for q values\n",
    "    order_sets = get_order_sets(q_ma + 1, 5)  # Include q=5 as well\n",
    "\n",
    "    for p in range(0, p_ar + 1):\n",
    "        for d in range(0, d_diff + 1):\n",
    "            for order_set in order_sets:\n",
    "                # Fit the model and find AIC in parallel for different q values\n",
    "                results = Parallel(n_jobs=len(order_set), prefer='threads')(\n",
    "                    delayed(find_aic_for_model)(data, p, d, q, model, model_name)\n",
    "                    for q in order_set\n",
    "                )\n",
    "                final_results.extend(results)\n",
    "    \n",
    "    # Create a DataFrame with results\n",
    "    results_df = pd.DataFrame(\n",
    "        [res for res in final_results if res[0] is not None],\n",
    "        columns=['aic', 'order']\n",
    "    )\n",
    "\n",
    "    # Find the order with the minimum AIC\n",
    "    min_df = results_df[results_df['aic'] == results_df['aic'].min()]\n",
    "    min_aic = min_df['aic'].iloc[0]\n",
    "    min_order = min_df['order'].iloc[0]\n",
    "    \n",
    "    return min_aic, min_order, results_df\n"
   ]
  },
  {
   "cell_type": "code",
   "execution_count": 13,
   "metadata": {},
   "outputs": [
    {
     "name": "stdout",
     "output_type": "stream",
     "text": [
      "Fitting ARIMA with order (p, d, q) = (0, 0, 0)Fitting ARIMA with order (p, d, q) = (0, 0, 1)\n",
      "Fitting ARIMA with order (p, d, q) = (0, 0, 2)\n",
      "Fitting ARIMA with order (p, d, q) = (0, 0, 3)\n",
      "Fitting ARIMA with order (p, d, q) = (0, 0, 4)\n",
      "\n",
      "Fitting ARIMA with order (p, d, q) = (0, 0, 5)\n",
      "Fitting ARIMA with order (p, d, q) = (0, 1, 0)\n",
      "Fitting ARIMA with order (p, d, q) = (0, 1, 1)\n",
      "Fitting ARIMA with order (p, d, q) = (0, 1, 2)\n",
      "Fitting ARIMA with order (p, d, q) = (0, 1, 3)\n",
      "Fitting ARIMA with order (p, d, q) = (0, 1, 4)\n"
     ]
    },
    {
     "name": "stderr",
     "output_type": "stream",
     "text": [
      "/Users/christinetsai/anaconda3/lib/python3.11/site-packages/statsmodels/tsa/statespace/sarimax.py:978: UserWarning: Non-invertible starting MA parameters found. Using zeros as starting parameters.\n",
      "  warn('Non-invertible starting MA parameters found.'\n"
     ]
    },
    {
     "name": "stdout",
     "output_type": "stream",
     "text": [
      "Fitting ARIMA with order (p, d, q) = (0, 1, 5)\n"
     ]
    },
    {
     "name": "stderr",
     "output_type": "stream",
     "text": [
      "/Users/christinetsai/anaconda3/lib/python3.11/site-packages/statsmodels/tsa/statespace/sarimax.py:978: UserWarning: Non-invertible starting MA parameters found. Using zeros as starting parameters.\n",
      "  warn('Non-invertible starting MA parameters found.'\n"
     ]
    },
    {
     "name": "stdout",
     "output_type": "stream",
     "text": [
      "Fitting ARIMA with order (p, d, q) = (0, 2, 0)Fitting ARIMA with order (p, d, q) = (0, 2, 1)\n",
      "\n",
      "Fitting ARIMA with order (p, d, q) = (0, 2, 2)\n",
      "Fitting ARIMA with order (p, d, q) = (0, 2, 3)\n",
      "Fitting ARIMA with order (p, d, q) = (0, 2, 4)\n"
     ]
    },
    {
     "name": "stderr",
     "output_type": "stream",
     "text": [
      "/Users/christinetsai/anaconda3/lib/python3.11/site-packages/statsmodels/tsa/statespace/sarimax.py:978: UserWarning: Non-invertible starting MA parameters found. Using zeros as starting parameters.\n",
      "  warn('Non-invertible starting MA parameters found.'\n"
     ]
    },
    {
     "name": "stdout",
     "output_type": "stream",
     "text": [
      "Fitting ARIMA with order (p, d, q) = (0, 2, 5)\n"
     ]
    },
    {
     "name": "stderr",
     "output_type": "stream",
     "text": [
      "/Users/christinetsai/anaconda3/lib/python3.11/site-packages/statsmodels/tsa/statespace/sarimax.py:978: UserWarning: Non-invertible starting MA parameters found. Using zeros as starting parameters.\n",
      "  warn('Non-invertible starting MA parameters found.'\n"
     ]
    },
    {
     "name": "stdout",
     "output_type": "stream",
     "text": [
      "Fitting ARIMA with order (p, d, q) = (1, 0, 0)\n",
      "Fitting ARIMA with order (p, d, q) = (1, 0, 1)\n",
      "Fitting ARIMA with order (p, d, q) = (1, 0, 2)\n",
      "Fitting ARIMA with order (p, d, q) = (1, 0, 3)\n",
      "Fitting ARIMA with order (p, d, q) = (1, 0, 4)\n"
     ]
    },
    {
     "name": "stderr",
     "output_type": "stream",
     "text": [
      "/Users/christinetsai/anaconda3/lib/python3.11/site-packages/statsmodels/tsa/statespace/sarimax.py:966: UserWarning: Non-stationary starting autoregressive parameters found. Using zeros as starting parameters.\n",
      "  warn('Non-stationary starting autoregressive parameters'\n",
      "/Users/christinetsai/anaconda3/lib/python3.11/site-packages/statsmodels/tsa/statespace/sarimax.py:978: UserWarning: Non-invertible starting MA parameters found. Using zeros as starting parameters.\n",
      "  warn('Non-invertible starting MA parameters found.'\n"
     ]
    },
    {
     "name": "stdout",
     "output_type": "stream",
     "text": [
      "Fitting ARIMA with order (p, d, q) = (1, 0, 5)\n"
     ]
    },
    {
     "name": "stderr",
     "output_type": "stream",
     "text": [
      "/Users/christinetsai/anaconda3/lib/python3.11/site-packages/statsmodels/tsa/statespace/sarimax.py:966: UserWarning: Non-stationary starting autoregressive parameters found. Using zeros as starting parameters.\n",
      "  warn('Non-stationary starting autoregressive parameters'\n",
      "/Users/christinetsai/anaconda3/lib/python3.11/site-packages/statsmodels/tsa/statespace/sarimax.py:978: UserWarning: Non-invertible starting MA parameters found. Using zeros as starting parameters.\n",
      "  warn('Non-invertible starting MA parameters found.'\n"
     ]
    },
    {
     "name": "stdout",
     "output_type": "stream",
     "text": [
      "Fitting ARIMA with order (p, d, q) = (1, 1, 0)Fitting ARIMA with order (p, d, q) = (1, 1, 1)\n",
      "\n",
      "Fitting ARIMA with order (p, d, q) = (1, 1, 2)\n",
      "Fitting ARIMA with order (p, d, q) = (1, 1, 3)\n",
      "Fitting ARIMA with order (p, d, q) = (1, 1, 4)\n"
     ]
    },
    {
     "name": "stderr",
     "output_type": "stream",
     "text": [
      "/Users/christinetsai/anaconda3/lib/python3.11/site-packages/statsmodels/tsa/statespace/sarimax.py:966: UserWarning: Non-stationary starting autoregressive parameters found. Using zeros as starting parameters.\n",
      "  warn('Non-stationary starting autoregressive parameters'\n",
      "/Users/christinetsai/anaconda3/lib/python3.11/site-packages/statsmodels/tsa/statespace/sarimax.py:978: UserWarning: Non-invertible starting MA parameters found. Using zeros as starting parameters.\n",
      "  warn('Non-invertible starting MA parameters found.'\n"
     ]
    },
    {
     "name": "stdout",
     "output_type": "stream",
     "text": [
      "Fitting ARIMA with order (p, d, q) = (1, 1, 5)\n",
      "Fitting ARIMA with order (p, d, q) = (1, 2, 0)\n",
      "Fitting ARIMA with order (p, d, q) = (1, 2, 1)\n",
      "Fitting ARIMA with order (p, d, q) = (1, 2, 2)\n",
      "Fitting ARIMA with order (p, d, q) = (1, 2, 3)\n",
      "Fitting ARIMA with order (p, d, q) = (1, 2, 4)\n"
     ]
    },
    {
     "name": "stderr",
     "output_type": "stream",
     "text": [
      "/Users/christinetsai/anaconda3/lib/python3.11/site-packages/statsmodels/tsa/statespace/sarimax.py:978: UserWarning: Non-invertible starting MA parameters found. Using zeros as starting parameters.\n",
      "  warn('Non-invertible starting MA parameters found.'\n",
      "/Users/christinetsai/anaconda3/lib/python3.11/site-packages/statsmodels/tsa/statespace/sarimax.py:978: UserWarning: Non-invertible starting MA parameters found. Using zeros as starting parameters.\n",
      "  warn('Non-invertible starting MA parameters found.'\n"
     ]
    },
    {
     "name": "stdout",
     "output_type": "stream",
     "text": [
      "Fitting ARIMA with order (p, d, q) = (1, 2, 5)\n"
     ]
    },
    {
     "name": "stderr",
     "output_type": "stream",
     "text": [
      "/Users/christinetsai/anaconda3/lib/python3.11/site-packages/statsmodels/tsa/statespace/sarimax.py:978: UserWarning: Non-invertible starting MA parameters found. Using zeros as starting parameters.\n",
      "  warn('Non-invertible starting MA parameters found.'\n"
     ]
    },
    {
     "name": "stdout",
     "output_type": "stream",
     "text": [
      "Fitting ARIMA with order (p, d, q) = (2, 0, 0)Fitting ARIMA with order (p, d, q) = (2, 0, 1)\n",
      "\n",
      "Fitting ARIMA with order (p, d, q) = (2, 0, 2)\n",
      "Fitting ARIMA with order (p, d, q) = (2, 0, 3)\n",
      "Fitting ARIMA with order (p, d, q) = (2, 0, 4)\n"
     ]
    },
    {
     "name": "stderr",
     "output_type": "stream",
     "text": [
      "/Users/christinetsai/anaconda3/lib/python3.11/site-packages/statsmodels/tsa/statespace/sarimax.py:966: UserWarning: Non-stationary starting autoregressive parameters found. Using zeros as starting parameters.\n",
      "  warn('Non-stationary starting autoregressive parameters'\n",
      "/Users/christinetsai/anaconda3/lib/python3.11/site-packages/statsmodels/tsa/statespace/sarimax.py:978: UserWarning: Non-invertible starting MA parameters found. Using zeros as starting parameters.\n",
      "  warn('Non-invertible starting MA parameters found.'\n"
     ]
    },
    {
     "name": "stdout",
     "output_type": "stream",
     "text": [
      "Fitting ARIMA with order (p, d, q) = (2, 0, 5)\n"
     ]
    },
    {
     "name": "stderr",
     "output_type": "stream",
     "text": [
      "/Users/christinetsai/anaconda3/lib/python3.11/site-packages/statsmodels/tsa/statespace/sarimax.py:966: UserWarning: Non-stationary starting autoregressive parameters found. Using zeros as starting parameters.\n",
      "  warn('Non-stationary starting autoregressive parameters'\n",
      "/Users/christinetsai/anaconda3/lib/python3.11/site-packages/statsmodels/tsa/statespace/sarimax.py:978: UserWarning: Non-invertible starting MA parameters found. Using zeros as starting parameters.\n",
      "  warn('Non-invertible starting MA parameters found.'\n"
     ]
    },
    {
     "name": "stdout",
     "output_type": "stream",
     "text": [
      "Fitting ARIMA with order (p, d, q) = (2, 1, 0)\n",
      "Fitting ARIMA with order (p, d, q) = (2, 1, 1)\n",
      "Fitting ARIMA with order (p, d, q) = (2, 1, 2)\n",
      "Fitting ARIMA with order (p, d, q) = (2, 1, 3)\n",
      "Fitting ARIMA with order (p, d, q) = (2, 1, 4)\n"
     ]
    },
    {
     "name": "stderr",
     "output_type": "stream",
     "text": [
      "/Users/christinetsai/anaconda3/lib/python3.11/site-packages/statsmodels/base/model.py:607: ConvergenceWarning: Maximum Likelihood optimization failed to converge. Check mle_retvals\n",
      "  warnings.warn(\"Maximum Likelihood optimization failed to \"\n"
     ]
    },
    {
     "name": "stdout",
     "output_type": "stream",
     "text": [
      "Fitting ARIMA with order (p, d, q) = (2, 1, 5)\n",
      "Fitting ARIMA with order (p, d, q) = (2, 2, 0)\n",
      "Fitting ARIMA with order (p, d, q) = (2, 2, 1)\n",
      "Fitting ARIMA with order (p, d, q) = (2, 2, 2)\n",
      "Fitting ARIMA with order (p, d, q) = (2, 2, 3)\n",
      "Fitting ARIMA with order (p, d, q) = (2, 2, 4)\n"
     ]
    },
    {
     "name": "stderr",
     "output_type": "stream",
     "text": [
      "/Users/christinetsai/anaconda3/lib/python3.11/site-packages/statsmodels/tsa/statespace/sarimax.py:978: UserWarning: Non-invertible starting MA parameters found. Using zeros as starting parameters.\n",
      "  warn('Non-invertible starting MA parameters found.'\n"
     ]
    },
    {
     "name": "stdout",
     "output_type": "stream",
     "text": [
      "Fitting ARIMA with order (p, d, q) = (2, 2, 5)\n"
     ]
    },
    {
     "name": "stderr",
     "output_type": "stream",
     "text": [
      "/Users/christinetsai/anaconda3/lib/python3.11/site-packages/statsmodels/tsa/statespace/sarimax.py:978: UserWarning: Non-invertible starting MA parameters found. Using zeros as starting parameters.\n",
      "  warn('Non-invertible starting MA parameters found.'\n",
      "/Users/christinetsai/anaconda3/lib/python3.11/site-packages/statsmodels/base/model.py:607: ConvergenceWarning: Maximum Likelihood optimization failed to converge. Check mle_retvals\n",
      "  warnings.warn(\"Maximum Likelihood optimization failed to \"\n"
     ]
    },
    {
     "name": "stdout",
     "output_type": "stream",
     "text": [
      "Fitting ARIMA with order (p, d, q) = (3, 0, 0)Fitting ARIMA with order (p, d, q) = (3, 0, 1)\n",
      "Fitting ARIMA with order (p, d, q) = (3, 0, 2)\n",
      "Fitting ARIMA with order (p, d, q) = (3, 0, 3)\n",
      "\n",
      "Fitting ARIMA with order (p, d, q) = (3, 0, 4)\n"
     ]
    },
    {
     "name": "stderr",
     "output_type": "stream",
     "text": [
      "/Users/christinetsai/anaconda3/lib/python3.11/site-packages/statsmodels/tsa/statespace/sarimax.py:966: UserWarning: Non-stationary starting autoregressive parameters found. Using zeros as starting parameters.\n",
      "  warn('Non-stationary starting autoregressive parameters'\n",
      "/Users/christinetsai/anaconda3/lib/python3.11/site-packages/statsmodels/tsa/statespace/sarimax.py:978: UserWarning: Non-invertible starting MA parameters found. Using zeros as starting parameters.\n",
      "  warn('Non-invertible starting MA parameters found.'\n",
      "/Users/christinetsai/anaconda3/lib/python3.11/site-packages/statsmodels/base/model.py:607: ConvergenceWarning: Maximum Likelihood optimization failed to converge. Check mle_retvals\n",
      "  warnings.warn(\"Maximum Likelihood optimization failed to \"\n",
      "/Users/christinetsai/anaconda3/lib/python3.11/site-packages/statsmodels/tsa/statespace/sarimax.py:966: UserWarning: Non-stationary starting autoregressive parameters found. Using zeros as starting parameters.\n",
      "  warn('Non-stationary starting autoregressive parameters'\n",
      "/Users/christinetsai/anaconda3/lib/python3.11/site-packages/statsmodels/tsa/statespace/sarimax.py:978: UserWarning: Non-invertible starting MA parameters found. Using zeros as starting parameters.\n",
      "  warn('Non-invertible starting MA parameters found.'\n"
     ]
    },
    {
     "name": "stdout",
     "output_type": "stream",
     "text": [
      "Fitting ARIMA with order (p, d, q) = (3, 0, 5)\n"
     ]
    },
    {
     "name": "stderr",
     "output_type": "stream",
     "text": [
      "/Users/christinetsai/anaconda3/lib/python3.11/site-packages/statsmodels/base/model.py:607: ConvergenceWarning: Maximum Likelihood optimization failed to converge. Check mle_retvals\n",
      "  warnings.warn(\"Maximum Likelihood optimization failed to \"\n"
     ]
    },
    {
     "name": "stdout",
     "output_type": "stream",
     "text": [
      "Fitting ARIMA with order (p, d, q) = (3, 1, 0)Fitting ARIMA with order (p, d, q) = (3, 1, 1)\n",
      "Fitting ARIMA with order (p, d, q) = (3, 1, 2)\n",
      "\n",
      "Fitting ARIMA with order (p, d, q) = (3, 1, 3)\n",
      "Fitting ARIMA with order (p, d, q) = (3, 1, 4)\n"
     ]
    },
    {
     "name": "stderr",
     "output_type": "stream",
     "text": [
      "/Users/christinetsai/anaconda3/lib/python3.11/site-packages/statsmodels/tsa/statespace/sarimax.py:966: UserWarning: Non-stationary starting autoregressive parameters found. Using zeros as starting parameters.\n",
      "  warn('Non-stationary starting autoregressive parameters'\n",
      "/Users/christinetsai/anaconda3/lib/python3.11/site-packages/statsmodels/tsa/statespace/sarimax.py:978: UserWarning: Non-invertible starting MA parameters found. Using zeros as starting parameters.\n",
      "  warn('Non-invertible starting MA parameters found.'\n",
      "/Users/christinetsai/anaconda3/lib/python3.11/site-packages/statsmodels/base/model.py:607: ConvergenceWarning: Maximum Likelihood optimization failed to converge. Check mle_retvals\n",
      "  warnings.warn(\"Maximum Likelihood optimization failed to \"\n"
     ]
    },
    {
     "name": "stdout",
     "output_type": "stream",
     "text": [
      "Fitting ARIMA with order (p, d, q) = (3, 1, 5)\n"
     ]
    },
    {
     "name": "stderr",
     "output_type": "stream",
     "text": [
      "/Users/christinetsai/anaconda3/lib/python3.11/site-packages/statsmodels/base/model.py:607: ConvergenceWarning: Maximum Likelihood optimization failed to converge. Check mle_retvals\n",
      "  warnings.warn(\"Maximum Likelihood optimization failed to \"\n",
      "/Users/christinetsai/anaconda3/lib/python3.11/site-packages/statsmodels/tsa/statespace/sarimax.py:978: UserWarning: Non-invertible starting MA parameters found. Using zeros as starting parameters.\n",
      "  warn('Non-invertible starting MA parameters found.'\n"
     ]
    },
    {
     "name": "stdout",
     "output_type": "stream",
     "text": [
      "Fitting ARIMA with order (p, d, q) = (3, 2, 0)\n",
      "Fitting ARIMA with order (p, d, q) = (3, 2, 1)\n",
      "Fitting ARIMA with order (p, d, q) = (3, 2, 2)\n",
      "Fitting ARIMA with order (p, d, q) = (3, 2, 3)\n",
      "Fitting ARIMA with order (p, d, q) = (3, 2, 4)\n"
     ]
    },
    {
     "name": "stderr",
     "output_type": "stream",
     "text": [
      "/Users/christinetsai/anaconda3/lib/python3.11/site-packages/statsmodels/tsa/statespace/sarimax.py:966: UserWarning: Non-stationary starting autoregressive parameters found. Using zeros as starting parameters.\n",
      "  warn('Non-stationary starting autoregressive parameters'\n",
      "/Users/christinetsai/anaconda3/lib/python3.11/site-packages/statsmodels/base/model.py:607: ConvergenceWarning: Maximum Likelihood optimization failed to converge. Check mle_retvals\n",
      "  warnings.warn(\"Maximum Likelihood optimization failed to \"\n",
      "/Users/christinetsai/anaconda3/lib/python3.11/site-packages/statsmodels/base/model.py:607: ConvergenceWarning: Maximum Likelihood optimization failed to converge. Check mle_retvals\n",
      "  warnings.warn(\"Maximum Likelihood optimization failed to \"\n",
      "/Users/christinetsai/anaconda3/lib/python3.11/site-packages/statsmodels/tsa/statespace/sarimax.py:978: UserWarning: Non-invertible starting MA parameters found. Using zeros as starting parameters.\n",
      "  warn('Non-invertible starting MA parameters found.'\n"
     ]
    },
    {
     "name": "stdout",
     "output_type": "stream",
     "text": [
      "Fitting ARIMA with order (p, d, q) = (3, 2, 5)\n"
     ]
    },
    {
     "name": "stderr",
     "output_type": "stream",
     "text": [
      "/Users/christinetsai/anaconda3/lib/python3.11/site-packages/statsmodels/base/model.py:607: ConvergenceWarning: Maximum Likelihood optimization failed to converge. Check mle_retvals\n",
      "  warnings.warn(\"Maximum Likelihood optimization failed to \"\n",
      "/Users/christinetsai/anaconda3/lib/python3.11/site-packages/statsmodels/tsa/statespace/sarimax.py:966: UserWarning: Non-stationary starting autoregressive parameters found. Using zeros as starting parameters.\n",
      "  warn('Non-stationary starting autoregressive parameters'\n",
      "/Users/christinetsai/anaconda3/lib/python3.11/site-packages/statsmodels/tsa/statespace/sarimax.py:978: UserWarning: Non-invertible starting MA parameters found. Using zeros as starting parameters.\n",
      "  warn('Non-invertible starting MA parameters found.'\n"
     ]
    },
    {
     "name": "stdout",
     "output_type": "stream",
     "text": [
      "Fitting ARIMA with order (p, d, q) = (4, 0, 0)\n",
      "Fitting ARIMA with order (p, d, q) = (4, 0, 1)\n",
      "Fitting ARIMA with order (p, d, q) = (4, 0, 2)\n",
      "Fitting ARIMA with order (p, d, q) = (4, 0, 3)\n",
      "Fitting ARIMA with order (p, d, q) = (4, 0, 4)\n"
     ]
    },
    {
     "name": "stderr",
     "output_type": "stream",
     "text": [
      "/Users/christinetsai/anaconda3/lib/python3.11/site-packages/statsmodels/base/model.py:607: ConvergenceWarning: Maximum Likelihood optimization failed to converge. Check mle_retvals\n",
      "  warnings.warn(\"Maximum Likelihood optimization failed to \"\n",
      "/Users/christinetsai/anaconda3/lib/python3.11/site-packages/statsmodels/base/model.py:607: ConvergenceWarning: Maximum Likelihood optimization failed to converge. Check mle_retvals\n",
      "  warnings.warn(\"Maximum Likelihood optimization failed to \"\n",
      "/Users/christinetsai/anaconda3/lib/python3.11/site-packages/statsmodels/tsa/statespace/sarimax.py:966: UserWarning: Non-stationary starting autoregressive parameters found. Using zeros as starting parameters.\n",
      "  warn('Non-stationary starting autoregressive parameters'\n",
      "/Users/christinetsai/anaconda3/lib/python3.11/site-packages/statsmodels/tsa/statespace/sarimax.py:978: UserWarning: Non-invertible starting MA parameters found. Using zeros as starting parameters.\n",
      "  warn('Non-invertible starting MA parameters found.'\n"
     ]
    },
    {
     "name": "stdout",
     "output_type": "stream",
     "text": [
      "Fitting ARIMA with order (p, d, q) = (4, 0, 5)\n"
     ]
    },
    {
     "name": "stderr",
     "output_type": "stream",
     "text": [
      "/Users/christinetsai/anaconda3/lib/python3.11/site-packages/statsmodels/base/model.py:607: ConvergenceWarning: Maximum Likelihood optimization failed to converge. Check mle_retvals\n",
      "  warnings.warn(\"Maximum Likelihood optimization failed to \"\n"
     ]
    },
    {
     "name": "stdout",
     "output_type": "stream",
     "text": [
      "Fitting ARIMA with order (p, d, q) = (4, 1, 0)\n",
      "Fitting ARIMA with order (p, d, q) = (4, 1, 1)\n",
      "Fitting ARIMA with order (p, d, q) = (4, 1, 2)\n",
      "Fitting ARIMA with order (p, d, q) = (4, 1, 3)\n",
      "Fitting ARIMA with order (p, d, q) = (4, 1, 4)\n"
     ]
    },
    {
     "name": "stderr",
     "output_type": "stream",
     "text": [
      "/Users/christinetsai/anaconda3/lib/python3.11/site-packages/statsmodels/tsa/statespace/sarimax.py:966: UserWarning: Non-stationary starting autoregressive parameters found. Using zeros as starting parameters.\n",
      "  warn('Non-stationary starting autoregressive parameters'\n",
      "/Users/christinetsai/anaconda3/lib/python3.11/site-packages/statsmodels/tsa/statespace/sarimax.py:978: UserWarning: Non-invertible starting MA parameters found. Using zeros as starting parameters.\n",
      "  warn('Non-invertible starting MA parameters found.'\n",
      "/Users/christinetsai/anaconda3/lib/python3.11/site-packages/statsmodels/base/model.py:607: ConvergenceWarning: Maximum Likelihood optimization failed to converge. Check mle_retvals\n",
      "  warnings.warn(\"Maximum Likelihood optimization failed to \"\n"
     ]
    },
    {
     "name": "stdout",
     "output_type": "stream",
     "text": [
      "Fitting ARIMA with order (p, d, q) = (4, 1, 5)\n"
     ]
    },
    {
     "name": "stderr",
     "output_type": "stream",
     "text": [
      "/Users/christinetsai/anaconda3/lib/python3.11/site-packages/statsmodels/base/model.py:607: ConvergenceWarning: Maximum Likelihood optimization failed to converge. Check mle_retvals\n",
      "  warnings.warn(\"Maximum Likelihood optimization failed to \"\n"
     ]
    },
    {
     "name": "stdout",
     "output_type": "stream",
     "text": [
      "Fitting ARIMA with order (p, d, q) = (4, 2, 0)Fitting ARIMA with order (p, d, q) = (4, 2, 1)\n",
      "Fitting ARIMA with order (p, d, q) = (4, 2, 2)\n",
      "Fitting ARIMA with order (p, d, q) = (4, 2, 3)\n",
      "Fitting ARIMA with order (p, d, q) = (4, 2, 4)\n",
      "\n"
     ]
    },
    {
     "name": "stderr",
     "output_type": "stream",
     "text": [
      "/Users/christinetsai/anaconda3/lib/python3.11/site-packages/statsmodels/tsa/statespace/sarimax.py:966: UserWarning: Non-stationary starting autoregressive parameters found. Using zeros as starting parameters.\n",
      "  warn('Non-stationary starting autoregressive parameters'\n",
      "/Users/christinetsai/anaconda3/lib/python3.11/site-packages/statsmodels/tsa/statespace/sarimax.py:978: UserWarning: Non-invertible starting MA parameters found. Using zeros as starting parameters.\n",
      "  warn('Non-invertible starting MA parameters found.'\n",
      "/Users/christinetsai/anaconda3/lib/python3.11/site-packages/statsmodels/base/model.py:607: ConvergenceWarning: Maximum Likelihood optimization failed to converge. Check mle_retvals\n",
      "  warnings.warn(\"Maximum Likelihood optimization failed to \"\n",
      "/Users/christinetsai/anaconda3/lib/python3.11/site-packages/statsmodels/base/model.py:607: ConvergenceWarning: Maximum Likelihood optimization failed to converge. Check mle_retvals\n",
      "  warnings.warn(\"Maximum Likelihood optimization failed to \"\n"
     ]
    },
    {
     "name": "stdout",
     "output_type": "stream",
     "text": [
      "Fitting ARIMA with order (p, d, q) = (4, 2, 5)\n"
     ]
    },
    {
     "name": "stderr",
     "output_type": "stream",
     "text": [
      "/Users/christinetsai/anaconda3/lib/python3.11/site-packages/statsmodels/tsa/statespace/sarimax.py:978: UserWarning: Non-invertible starting MA parameters found. Using zeros as starting parameters.\n",
      "  warn('Non-invertible starting MA parameters found.'\n",
      "/Users/christinetsai/anaconda3/lib/python3.11/site-packages/statsmodels/base/model.py:607: ConvergenceWarning: Maximum Likelihood optimization failed to converge. Check mle_retvals\n",
      "  warnings.warn(\"Maximum Likelihood optimization failed to \"\n"
     ]
    },
    {
     "name": "stdout",
     "output_type": "stream",
     "text": [
      "Fitting ARIMA with order (p, d, q) = (5, 0, 0)Fitting ARIMA with order (p, d, q) = (5, 0, 1)\n",
      "\n",
      "Fitting ARIMA with order (p, d, q) = (5, 0, 2)\n",
      "Fitting ARIMA with order (p, d, q) = (5, 0, 3)\n",
      "Fitting ARIMA with order (p, d, q) = (5, 0, 4)\n"
     ]
    },
    {
     "name": "stderr",
     "output_type": "stream",
     "text": [
      "/Users/christinetsai/anaconda3/lib/python3.11/site-packages/statsmodels/tsa/statespace/sarimax.py:966: UserWarning: Non-stationary starting autoregressive parameters found. Using zeros as starting parameters.\n",
      "  warn('Non-stationary starting autoregressive parameters'\n",
      "/Users/christinetsai/anaconda3/lib/python3.11/site-packages/statsmodels/tsa/statespace/sarimax.py:978: UserWarning: Non-invertible starting MA parameters found. Using zeros as starting parameters.\n",
      "  warn('Non-invertible starting MA parameters found.'\n",
      "/Users/christinetsai/anaconda3/lib/python3.11/site-packages/statsmodels/base/model.py:607: ConvergenceWarning: Maximum Likelihood optimization failed to converge. Check mle_retvals\n",
      "  warnings.warn(\"Maximum Likelihood optimization failed to \"\n",
      "/Users/christinetsai/anaconda3/lib/python3.11/site-packages/statsmodels/tsa/statespace/sarimax.py:966: UserWarning: Non-stationary starting autoregressive parameters found. Using zeros as starting parameters.\n",
      "  warn('Non-stationary starting autoregressive parameters'\n",
      "/Users/christinetsai/anaconda3/lib/python3.11/site-packages/statsmodels/tsa/statespace/sarimax.py:978: UserWarning: Non-invertible starting MA parameters found. Using zeros as starting parameters.\n",
      "  warn('Non-invertible starting MA parameters found.'\n"
     ]
    },
    {
     "name": "stdout",
     "output_type": "stream",
     "text": [
      "Fitting ARIMA with order (p, d, q) = (5, 0, 5)\n"
     ]
    },
    {
     "name": "stderr",
     "output_type": "stream",
     "text": [
      "/Users/christinetsai/anaconda3/lib/python3.11/site-packages/statsmodels/base/model.py:607: ConvergenceWarning: Maximum Likelihood optimization failed to converge. Check mle_retvals\n",
      "  warnings.warn(\"Maximum Likelihood optimization failed to \"\n",
      "/Users/christinetsai/anaconda3/lib/python3.11/site-packages/statsmodels/tsa/statespace/sarimax.py:966: UserWarning: Non-stationary starting autoregressive parameters found. Using zeros as starting parameters.\n",
      "  warn('Non-stationary starting autoregressive parameters'\n",
      "/Users/christinetsai/anaconda3/lib/python3.11/site-packages/statsmodels/tsa/statespace/sarimax.py:978: UserWarning: Non-invertible starting MA parameters found. Using zeros as starting parameters.\n",
      "  warn('Non-invertible starting MA parameters found.'\n"
     ]
    },
    {
     "name": "stdout",
     "output_type": "stream",
     "text": [
      "Fitting ARIMA with order (p, d, q) = (5, 1, 0)Fitting ARIMA with order (p, d, q) = (5, 1, 1)\n",
      "Fitting ARIMA with order (p, d, q) = (5, 1, 2)\n",
      "Fitting ARIMA with order (p, d, q) = (5, 1, 3)\n",
      "\n",
      "Fitting ARIMA with order (p, d, q) = (5, 1, 4)\n"
     ]
    },
    {
     "name": "stderr",
     "output_type": "stream",
     "text": [
      "/Users/christinetsai/anaconda3/lib/python3.11/site-packages/statsmodels/base/model.py:607: ConvergenceWarning: Maximum Likelihood optimization failed to converge. Check mle_retvals\n",
      "  warnings.warn(\"Maximum Likelihood optimization failed to \"\n",
      "/Users/christinetsai/anaconda3/lib/python3.11/site-packages/statsmodels/base/model.py:607: ConvergenceWarning: Maximum Likelihood optimization failed to converge. Check mle_retvals\n",
      "  warnings.warn(\"Maximum Likelihood optimization failed to \"\n"
     ]
    },
    {
     "name": "stdout",
     "output_type": "stream",
     "text": [
      "Fitting ARIMA with order (p, d, q) = (5, 1, 5)\n"
     ]
    },
    {
     "name": "stderr",
     "output_type": "stream",
     "text": [
      "/Users/christinetsai/anaconda3/lib/python3.11/site-packages/statsmodels/base/model.py:607: ConvergenceWarning: Maximum Likelihood optimization failed to converge. Check mle_retvals\n",
      "  warnings.warn(\"Maximum Likelihood optimization failed to \"\n",
      "/Users/christinetsai/anaconda3/lib/python3.11/site-packages/statsmodels/tsa/statespace/sarimax.py:966: UserWarning: Non-stationary starting autoregressive parameters found. Using zeros as starting parameters.\n",
      "  warn('Non-stationary starting autoregressive parameters'\n",
      "/Users/christinetsai/anaconda3/lib/python3.11/site-packages/statsmodels/tsa/statespace/sarimax.py:978: UserWarning: Non-invertible starting MA parameters found. Using zeros as starting parameters.\n",
      "  warn('Non-invertible starting MA parameters found.'\n"
     ]
    },
    {
     "name": "stdout",
     "output_type": "stream",
     "text": [
      "Fitting ARIMA with order (p, d, q) = (5, 2, 0)Fitting ARIMA with order (p, d, q) = (5, 2, 1)\n",
      "Fitting ARIMA with order (p, d, q) = (5, 2, 2)\n",
      "\n",
      "Fitting ARIMA with order (p, d, q) = (5, 2, 3)\n",
      "Fitting ARIMA with order (p, d, q) = (5, 2, 4)\n"
     ]
    },
    {
     "name": "stderr",
     "output_type": "stream",
     "text": [
      "/Users/christinetsai/anaconda3/lib/python3.11/site-packages/statsmodels/base/model.py:607: ConvergenceWarning: Maximum Likelihood optimization failed to converge. Check mle_retvals\n",
      "  warnings.warn(\"Maximum Likelihood optimization failed to \"\n",
      "/Users/christinetsai/anaconda3/lib/python3.11/site-packages/statsmodels/base/model.py:607: ConvergenceWarning: Maximum Likelihood optimization failed to converge. Check mle_retvals\n",
      "  warnings.warn(\"Maximum Likelihood optimization failed to \"\n",
      "/Users/christinetsai/anaconda3/lib/python3.11/site-packages/statsmodels/tsa/statespace/sarimax.py:978: UserWarning: Non-invertible starting MA parameters found. Using zeros as starting parameters.\n",
      "  warn('Non-invertible starting MA parameters found.'\n"
     ]
    },
    {
     "name": "stdout",
     "output_type": "stream",
     "text": [
      "Fitting ARIMA with order (p, d, q) = (5, 2, 5)\n",
      "******MIN_AIC:  141540.15130044697 MIN_ORDER:  (5, 1, 5)\n"
     ]
    },
    {
     "name": "stderr",
     "output_type": "stream",
     "text": [
      "/Users/christinetsai/anaconda3/lib/python3.11/site-packages/statsmodels/base/model.py:607: ConvergenceWarning: Maximum Likelihood optimization failed to converge. Check mle_retvals\n",
      "  warnings.warn(\"Maximum Likelihood optimization failed to \"\n"
     ]
    }
   ],
   "source": [
    "# print(find_best_order_for_model(cpu_util_df[\"value\"], ARIMA, \"ARIMA\"))\n",
    "min_aic, min_order, results_df = find_best_order_for_model(network_in_df[\"value\"], ARIMA, \"ARIMA\")\n",
    "# print(find_best_order_for_model(cpu_util_df, ARIMA, \"ARIMA\"))\n",
    "print(\"******MIN_AIC: \", min_aic, \"MIN_ORDER: \", min_order)# Output: 1341.1035677173795, (4, 4)"
   ]
  },
  {
   "cell_type": "code",
   "execution_count": 14,
   "metadata": {},
   "outputs": [
    {
     "name": "stderr",
     "output_type": "stream",
     "text": [
      "/Users/christinetsai/anaconda3/lib/python3.11/site-packages/statsmodels/base/model.py:607: ConvergenceWarning: Maximum Likelihood optimization failed to converge. Check mle_retvals\n",
      "  warnings.warn(\"Maximum Likelihood optimization failed to \"\n"
     ]
    }
   ],
   "source": [
    "''' build arima model\n",
    "ARIMA's parameters: p, d, and q\n",
    "p = for autoregression pt of model; how far back in time should we go to predict the current observation\n",
    "d = order of differencing\n",
    "q = for moving avg part of the model; represents num of lagged forecast errors included in the model \n",
    "'''\n",
    "\n",
    "model_arima=ARIMA(network_in_df['value'],order=(5, 1, 5)) # using (5, 1, 5) as order based on running helper functions above that find this order for us\n",
    "model_arima=model_arima.fit()\n",
    "\n"
   ]
  },
  {
   "cell_type": "code",
   "execution_count": 15,
   "metadata": {},
   "outputs": [
    {
     "data": {
      "text/plain": [
       "0     0.000000\n",
       "1    20.531701\n",
       "2    42.425575\n",
       "3    48.045821\n",
       "4    54.420089\n",
       "dtype: float64"
      ]
     },
     "execution_count": 15,
     "metadata": {},
     "output_type": "execute_result"
    }
   ],
   "source": [
    "# Returns the in-sample predictions for the training period\n",
    "forecast_values = model_arima.fittedvalues.reset_index(drop=True)\n",
    "forecast_values.head()"
   ]
  },
  {
   "cell_type": "code",
   "execution_count": 16,
   "metadata": {},
   "outputs": [],
   "source": [
    "# Get the in-sample predictions (fitted values) to calculate confidence bounds\n",
    "fitted_values = model_arima.fittedvalues.reset_index(drop=True)\n",
    "\n",
    "# Calculate residuals (actual - predicted) to compute std\n",
    "residuals = network_in_df[\"value\"] - fitted_values\n",
    "std_resid = np.std(residuals)\n",
    "\n",
    "# Define bounds using residual standard deviation\n",
    "# z_score = 2.576  # 99% confidence\n",
    "z_score = 3.5\n",
    "upper_bound = fitted_values + (z_score * std_resid)\n",
    "lower_bound = fitted_values - (z_score * std_resid)\n",
    "\n"
   ]
  },
  {
   "cell_type": "code",
   "execution_count": 17,
   "metadata": {},
   "outputs": [
    {
     "data": {
      "text/html": [
       "<div>\n",
       "<style scoped>\n",
       "    .dataframe tbody tr th:only-of-type {\n",
       "        vertical-align: middle;\n",
       "    }\n",
       "\n",
       "    .dataframe tbody tr th {\n",
       "        vertical-align: top;\n",
       "    }\n",
       "\n",
       "    .dataframe thead th {\n",
       "        text-align: right;\n",
       "    }\n",
       "</style>\n",
       "<table border=\"1\" class=\"dataframe\">\n",
       "  <thead>\n",
       "    <tr style=\"text-align: right;\">\n",
       "      <th></th>\n",
       "      <th>timestamp</th>\n",
       "      <th>value</th>\n",
       "      <th>val_diff</th>\n",
       "      <th>lower_bound</th>\n",
       "      <th>upper_bound</th>\n",
       "      <th>is_anomaly</th>\n",
       "    </tr>\n",
       "  </thead>\n",
       "  <tbody>\n",
       "    <tr>\n",
       "      <th>0</th>\n",
       "      <td>2014-03-01 17:36:00</td>\n",
       "      <td>42.0</td>\n",
       "      <td>NaN</td>\n",
       "      <td>-2.664490e+06</td>\n",
       "      <td>2.664490e+06</td>\n",
       "      <td>0</td>\n",
       "    </tr>\n",
       "    <tr>\n",
       "      <th>1</th>\n",
       "      <td>2014-03-01 17:41:00</td>\n",
       "      <td>94.8</td>\n",
       "      <td>52.8</td>\n",
       "      <td>-2.664470e+06</td>\n",
       "      <td>2.664511e+06</td>\n",
       "      <td>0</td>\n",
       "    </tr>\n",
       "    <tr>\n",
       "      <th>2</th>\n",
       "      <td>2014-03-01 17:46:00</td>\n",
       "      <td>42.0</td>\n",
       "      <td>-52.8</td>\n",
       "      <td>-2.664448e+06</td>\n",
       "      <td>2.664533e+06</td>\n",
       "      <td>0</td>\n",
       "    </tr>\n",
       "    <tr>\n",
       "      <th>3</th>\n",
       "      <td>2014-03-01 17:51:00</td>\n",
       "      <td>68.4</td>\n",
       "      <td>26.4</td>\n",
       "      <td>-2.664442e+06</td>\n",
       "      <td>2.664539e+06</td>\n",
       "      <td>0</td>\n",
       "    </tr>\n",
       "    <tr>\n",
       "      <th>4</th>\n",
       "      <td>2014-03-01 17:56:00</td>\n",
       "      <td>68.4</td>\n",
       "      <td>0.0</td>\n",
       "      <td>-2.664436e+06</td>\n",
       "      <td>2.664545e+06</td>\n",
       "      <td>0</td>\n",
       "    </tr>\n",
       "    <tr>\n",
       "      <th>...</th>\n",
       "      <td>...</td>\n",
       "      <td>...</td>\n",
       "      <td>...</td>\n",
       "      <td>...</td>\n",
       "      <td>...</td>\n",
       "      <td>...</td>\n",
       "    </tr>\n",
       "    <tr>\n",
       "      <th>95</th>\n",
       "      <td>2014-03-02 01:31:00</td>\n",
       "      <td>68.4</td>\n",
       "      <td>26.4</td>\n",
       "      <td>-2.664423e+06</td>\n",
       "      <td>2.664558e+06</td>\n",
       "      <td>0</td>\n",
       "    </tr>\n",
       "    <tr>\n",
       "      <th>96</th>\n",
       "      <td>2014-03-02 01:36:00</td>\n",
       "      <td>68.4</td>\n",
       "      <td>0.0</td>\n",
       "      <td>-2.664418e+06</td>\n",
       "      <td>2.664563e+06</td>\n",
       "      <td>0</td>\n",
       "    </tr>\n",
       "    <tr>\n",
       "      <th>97</th>\n",
       "      <td>2014-03-02 01:41:00</td>\n",
       "      <td>86.4</td>\n",
       "      <td>18.0</td>\n",
       "      <td>-2.664425e+06</td>\n",
       "      <td>2.664555e+06</td>\n",
       "      <td>0</td>\n",
       "    </tr>\n",
       "    <tr>\n",
       "      <th>98</th>\n",
       "      <td>2014-03-02 01:46:00</td>\n",
       "      <td>68.4</td>\n",
       "      <td>-18.0</td>\n",
       "      <td>-2.664421e+06</td>\n",
       "      <td>2.664560e+06</td>\n",
       "      <td>0</td>\n",
       "    </tr>\n",
       "    <tr>\n",
       "      <th>99</th>\n",
       "      <td>2014-03-02 01:51:00</td>\n",
       "      <td>42.0</td>\n",
       "      <td>-26.4</td>\n",
       "      <td>-2.664418e+06</td>\n",
       "      <td>2.664563e+06</td>\n",
       "      <td>0</td>\n",
       "    </tr>\n",
       "  </tbody>\n",
       "</table>\n",
       "<p>100 rows × 6 columns</p>\n",
       "</div>"
      ],
      "text/plain": [
       "             timestamp  value  val_diff   lower_bound   upper_bound  \\\n",
       "0  2014-03-01 17:36:00   42.0       NaN -2.664490e+06  2.664490e+06   \n",
       "1  2014-03-01 17:41:00   94.8      52.8 -2.664470e+06  2.664511e+06   \n",
       "2  2014-03-01 17:46:00   42.0     -52.8 -2.664448e+06  2.664533e+06   \n",
       "3  2014-03-01 17:51:00   68.4      26.4 -2.664442e+06  2.664539e+06   \n",
       "4  2014-03-01 17:56:00   68.4       0.0 -2.664436e+06  2.664545e+06   \n",
       "..                 ...    ...       ...           ...           ...   \n",
       "95 2014-03-02 01:31:00   68.4      26.4 -2.664423e+06  2.664558e+06   \n",
       "96 2014-03-02 01:36:00   68.4       0.0 -2.664418e+06  2.664563e+06   \n",
       "97 2014-03-02 01:41:00   86.4      18.0 -2.664425e+06  2.664555e+06   \n",
       "98 2014-03-02 01:46:00   68.4     -18.0 -2.664421e+06  2.664560e+06   \n",
       "99 2014-03-02 01:51:00   42.0     -26.4 -2.664418e+06  2.664563e+06   \n",
       "\n",
       "    is_anomaly  \n",
       "0            0  \n",
       "1            0  \n",
       "2            0  \n",
       "3            0  \n",
       "4            0  \n",
       "..         ...  \n",
       "95           0  \n",
       "96           0  \n",
       "97           0  \n",
       "98           0  \n",
       "99           0  \n",
       "\n",
       "[100 rows x 6 columns]"
      ]
     },
     "execution_count": 17,
     "metadata": {},
     "output_type": "execute_result"
    }
   ],
   "source": [
    "\n",
    "network_in_df[\"lower_bound\"] = lower_bound\n",
    "network_in_df[\"upper_bound\"] = upper_bound\n",
    "network_in_df[\"is_anomaly\"] = (\n",
    "    (network_in_df[\"value\"] > upper_bound)\n",
    ").astype(int)\n",
    "network_in_df.head(100)"
   ]
  },
  {
   "cell_type": "code",
   "execution_count": 19,
   "metadata": {},
   "outputs": [
    {
     "data": {
      "text/plain": [
       "81"
      ]
     },
     "execution_count": 19,
     "metadata": {},
     "output_type": "execute_result"
    }
   ],
   "source": [
    "# sum up number of anomalies\n",
    "network_in_df[\"is_anomaly\"].sum()"
   ]
  },
  {
   "cell_type": "code",
   "execution_count": 20,
   "metadata": {},
   "outputs": [
    {
     "data": {
      "image/png": "[encoded data removed]",
      "text/plain": [
       "<Figure size 1200x600 with 1 Axes>"
      ]
     },
     "metadata": {},
     "output_type": "display_data"
    }
   ],
   "source": [
    "# Plot the forecasted values with the confidence intervals\n",
    "plt.figure(figsize=(12, 6))\n",
    "plt.plot(network_in_df['timestamp'], network_in_df['value'], label=\"Actual Data\", color='blue')\n",
    "plt.plot(network_in_df['timestamp'], fitted_values, label=\"Fitted Values\", color='navy')\n",
    "plt.fill_between(network_in_df['timestamp'], lower_bound, upper_bound, color='lightblue', alpha=0.5, label=\"99% Confidence Interval\")\n",
    "anomalies = network_in_df[network_in_df[\"is_anomaly\"] == 1]\n",
    "plt.scatter(\n",
    "    anomalies['timestamp'],\n",
    "    anomalies['value'],\n",
    "    color='red',\n",
    "    label=\"Anomalies\",\n",
    "    zorder=5,\n",
    ")\n",
    "plt.xlabel(\"Date\")\n",
    "plt.ylabel(\"Network In (Bytes)\")\n",
    "plt.title(\"Time Series Forecast with Confidence Interval and Anomalies\")\n",
    "plt.legend()\n",
    "plt.xticks(rotation=45)\n",
    "plt.grid(True)\n",
    "plt.tight_layout()\n",
    "plt.show()"
   ]
  }
 ],
 "metadata": {
  "kernelspec": {
   "display_name": "base",
   "language": "python",
   "name": "python3"
  },
  "language_info": {
   "codemirror_mode": {
    "name": "ipython",
    "version": 3
   },
   "file_extension": ".py",
   "mimetype": "text/x-python",
   "name": "python",
   "nbconvert_exporter": "python",
   "pygments_lexer": "ipython3",
   "version": "3.11.4"
  }
 },
 "nbformat": 4,
 "nbformat_minor": 2
}
