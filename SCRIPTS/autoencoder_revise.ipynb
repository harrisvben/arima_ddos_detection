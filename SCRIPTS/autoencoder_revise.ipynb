{
 "cells": [
  {
   "cell_type": "code",
   "execution_count": null,
   "metadata": {},
   "outputs": [],
   "source": [
    "# run this chunk in terminal\n",
    "# virtual env for tensorflow\n",
    "conda create --name tf-env python=3.10 -y\n",
    "conda activate tf-env\n",
    "pip install tensorflow numpy==1.23.5 ipykernel\n",
    "pip install pandas keras sklearn matplotlib\n",
    "python -m ipykernel install --user --name=tf-env --display-name \"Python (tf-env)\"\n"
   ]
  },
  {
   "cell_type": "code",
   "execution_count": 56,
   "metadata": {},
   "outputs": [],
   "source": [
    "# select \"Python (tf-env)\" before running\n",
    "# import packages\n",
    "import pandas as pd\n",
    "import numpy as np\n",
    "import tensorflow as tf\n",
    "from keras.layers import Input, Dense\n",
    "from keras.models import Model\n",
    "from sklearn.metrics import precision_recall_fscore_support\n",
    "import matplotlib.pyplot as plt"
   ]
  },
  {
   "cell_type": "markdown",
   "metadata": {},
   "source": [
    "Autoencoder: \n",
    "substitute proper paths and follow code chunk instructions"
   ]
  },
  {
   "cell_type": "code",
   "execution_count": 105,
   "metadata": {},
   "outputs": [],
   "source": [
    "# load data\n",
    "data = pd.read_csv(r\"C:\\Users\\vance\\Desktop\\project_folder\\ec2_cpu_utilization_53ea38.csv\")\n",
    "# data = pd.read_csv(r\"C:\\Users\\vance\\Desktop\\project_folder\\ec2_network_in_5abac7.csv\")\n",
    "# data = pd.read_csv(r\"C:\\Users\\vance\\Desktop\\project_folder\\elb_request_count_8c0756.csv\")"
   ]
  },
  {
   "cell_type": "code",
   "execution_count": 106,
   "metadata": {},
   "outputs": [],
   "source": [
    "# Exclude datetime column\n",
    "data_values = data.drop('timestamp',axis=1).values\n",
    "\n",
    "# Convert data to float type\n",
    "data_values = data_values.astype('float32')\n",
    "\n",
    "# Create new dataframe with converted values\n",
    "data_converted = pd.DataFrame(data_values,columns=data.columns[1:])\n",
    "\n",
    "# Add back datetime column\n",
    "data_converted.insert(0, 'timestamp',data['timestamp'])\n",
    "\n",
    "data_converted = data_converted.dropna()\n"
   ]
  },
  {
   "cell_type": "code",
   "execution_count": null,
   "metadata": {},
   "outputs": [],
   "source": [
    "# choose optimal dim\n",
    "# use encoding_dim = total_dim*n\n",
    "# n = [0.8, 0.6, 0.5, 0.4, 0.3]"
   ]
  },
  {
   "cell_type": "code",
   "execution_count": 81,
   "metadata": {},
   "outputs": [
    {
     "name": "stdout",
     "output_type": "stream",
     "text": [
      "\u001b[1m126/126\u001b[0m \u001b[32m━━━━━━━━━━━━━━━━━━━━\u001b[0m\u001b[37m\u001b[0m \u001b[1m1s\u001b[0m 4ms/step\n",
      "\u001b[1m126/126\u001b[0m \u001b[32m━━━━━━━━━━━━━━━━━━━━\u001b[0m\u001b[37m\u001b[0m \u001b[1m0s\u001b[0m 3ms/step\n",
      "\u001b[1m126/126\u001b[0m \u001b[32m━━━━━━━━━━━━━━━━━━━━\u001b[0m\u001b[37m\u001b[0m \u001b[1m0s\u001b[0m 2ms/step\n",
      "\u001b[1m126/126\u001b[0m \u001b[32m━━━━━━━━━━━━━━━━━━━━\u001b[0m\u001b[37m\u001b[0m \u001b[1m0s\u001b[0m 2ms/step\n",
      "\u001b[1m126/126\u001b[0m \u001b[32m━━━━━━━━━━━━━━━━━━━━\u001b[0m\u001b[37m\u001b[0m \u001b[1m1s\u001b[0m 3ms/step\n"
     ]
    }
   ],
   "source": [
    "list_dim = [0.8, 0.6, 0.5, 0.4, 0.3]\n",
    "results = []\n",
    "for n in list_dim:\n",
    "    # Exclude datetime column again\n",
    "    data_tensor = tf.convert_to_tensor(data_converted.drop(\n",
    "        'timestamp', axis=1).values, dtype=tf.float32)\n",
    "\n",
    "    # Define the autoencoder model\n",
    "    input_dim = data_converted.shape[1] - 1\n",
    "    total_dim = len(data_converted)\n",
    "    encoding_dim = int(total_dim * n)\n",
    "\n",
    "    input_layer = Input(shape=(input_dim,))\n",
    "    encoder = Dense(encoding_dim, activation='relu')(input_layer)\n",
    "    decoder = Dense(input_dim, activation='relu')(encoder)\n",
    "    autoencoder = Model(inputs=input_layer, outputs=decoder)\n",
    "\n",
    "    # Compile and fit the model\n",
    "    autoencoder.compile(optimizer='adam', loss='mse')\n",
    "    autoencoder.fit(data_tensor, data_tensor, epochs=50,\n",
    "                    batch_size=32, shuffle=True, verbose=0)\n",
    "\n",
    "    # Calculate the reconstruction error for each data point\n",
    "    reconstructions = autoencoder.predict(data_tensor)\n",
    "    mse = tf.reduce_mean(tf.square(data_tensor - reconstructions),\n",
    "                        axis=1)\n",
    "    avg_mse = tf.reduce_mean(mse)\n",
    "    anomaly_scores = pd.Series(mse.numpy(), name='anomaly_scores')\n",
    "    anomaly_scores.index = data_converted.index\n",
    "    results.append([n, float(avg_mse)])"
   ]
  },
  {
   "cell_type": "code",
   "execution_count": null,
   "metadata": {},
   "outputs": [
    {
     "data": {
      "text/html": [
       "<div>\n",
       "<style scoped>\n",
       "    .dataframe tbody tr th:only-of-type {\n",
       "        vertical-align: middle;\n",
       "    }\n",
       "\n",
       "    .dataframe tbody tr th {\n",
       "        vertical-align: top;\n",
       "    }\n",
       "\n",
       "    .dataframe thead th {\n",
       "        text-align: right;\n",
       "    }\n",
       "</style>\n",
       "<table border=\"1\" class=\"dataframe\">\n",
       "  <thead>\n",
       "    <tr style=\"text-align: right;\">\n",
       "      <th></th>\n",
       "      <th>n</th>\n",
       "      <th>avg_mse</th>\n",
       "    </tr>\n",
       "  </thead>\n",
       "  <tbody>\n",
       "    <tr>\n",
       "      <th>0</th>\n",
       "      <td>0.8</td>\n",
       "      <td>3.357562e+00</td>\n",
       "    </tr>\n",
       "    <tr>\n",
       "      <th>1</th>\n",
       "      <td>0.6</td>\n",
       "      <td>3.167525e-11</td>\n",
       "    </tr>\n",
       "    <tr>\n",
       "      <th>2</th>\n",
       "      <td>0.5</td>\n",
       "      <td>5.612391e-11</td>\n",
       "    </tr>\n",
       "    <tr>\n",
       "      <th>3</th>\n",
       "      <td>0.4</td>\n",
       "      <td>4.512771e-11</td>\n",
       "    </tr>\n",
       "    <tr>\n",
       "      <th>4</th>\n",
       "      <td>0.3</td>\n",
       "      <td>3.357562e+00</td>\n",
       "    </tr>\n",
       "  </tbody>\n",
       "</table>\n",
       "</div>"
      ],
      "text/plain": [
       "     n       avg_mse\n",
       "0  0.8  3.357562e+00\n",
       "1  0.6  3.167525e-11\n",
       "2  0.5  5.612391e-11\n",
       "3  0.4  4.512771e-11\n",
       "4  0.3  3.357562e+00"
      ]
     },
     "execution_count": 82,
     "metadata": {},
     "output_type": "execute_result"
    }
   ],
   "source": [
    "results_df = pd.DataFrame(results, columns=['n', 'avg_mse'])\n",
    "results_df\n",
    "# shows 0.6 smallest mse"
   ]
  },
  {
   "cell_type": "code",
   "execution_count": 107,
   "metadata": {},
   "outputs": [
    {
     "name": "stdout",
     "output_type": "stream",
     "text": [
      "\u001b[1m126/126\u001b[0m \u001b[32m━━━━━━━━━━━━━━━━━━━━\u001b[0m\u001b[37m\u001b[0m \u001b[1m0s\u001b[0m 3ms/step\n"
     ]
    }
   ],
   "source": [
    "# now run with optimal dimension\n",
    "# Exclude datetime column again\n",
    "data_tensor = tf.convert_to_tensor(data_converted.drop(\n",
    "    'timestamp', axis=1).values, dtype=tf.float32)\n",
    "\n",
    "n = 0.6\n",
    "# Define the autoencoder model\n",
    "input_dim = data_converted.shape[1] - 1\n",
    "total_dim = len(data_converted)\n",
    "encoding_dim = int(total_dim * n)\n",
    "\n",
    "input_layer = Input(shape=(input_dim,))\n",
    "encoder = Dense(encoding_dim, activation='relu')(input_layer)\n",
    "decoder = Dense(input_dim, activation='relu')(encoder)\n",
    "autoencoder = Model(inputs=input_layer, outputs=decoder)\n",
    "\n",
    "# Compile and fit the model\n",
    "autoencoder.compile(optimizer='adam', loss='mse')\n",
    "autoencoder.fit(data_tensor, data_tensor, epochs=50,\n",
    "                batch_size=32, shuffle=True, verbose=0)\n",
    "\n",
    "# Calculate the reconstruction error for each data point\n",
    "reconstructions = autoencoder.predict(data_tensor)\n",
    "mse = tf.reduce_mean(tf.square(data_tensor - reconstructions),\n",
    "                    axis=1)\n",
    "anomaly_scores = pd.Series(mse.numpy(), name='anomaly_scores')\n",
    "anomaly_scores.index = data_converted.index"
   ]
  },
  {
   "cell_type": "code",
   "execution_count": 84,
   "metadata": {},
   "outputs": [],
   "source": [
    "# choose optimal threshold\n",
    "# use num = n\n",
    "# n = [0.99, 0.95, 0.90, 0.75, 0.5, 0.25]"
   ]
  },
  {
   "cell_type": "code",
   "execution_count": 92,
   "metadata": {},
   "outputs": [],
   "source": [
    "list_threshold = [0.99, 0.95, 0.90, 0.75, 0.5, 0.25]\n",
    "results_threshold = []\n",
    "for num in list_threshold:\n",
    "    threshold = anomaly_scores.quantile(num)\n",
    "    anomalous = anomaly_scores > threshold\n",
    "    binary_labels = anomalous.astype(int)\n",
    "    precision, recall,\\\n",
    "        f1_score, _ = precision_recall_fscore_support(\n",
    "            binary_labels, anomalous, average='binary')\n",
    "\n",
    "    test = data_converted['value'].values\n",
    "    predictions = anomaly_scores.values\n",
    "\n",
    "    \"Precision: \", precision\n",
    "    \"Recall: \", recall\n",
    "    \"F1 Score: \", f1_score\n",
    "    results_threshold.append([num, f1_score])"
   ]
  },
  {
   "cell_type": "code",
   "execution_count": 94,
   "metadata": {},
   "outputs": [
    {
     "data": {
      "text/html": [
       "<div>\n",
       "<style scoped>\n",
       "    .dataframe tbody tr th:only-of-type {\n",
       "        vertical-align: middle;\n",
       "    }\n",
       "\n",
       "    .dataframe tbody tr th {\n",
       "        vertical-align: top;\n",
       "    }\n",
       "\n",
       "    .dataframe thead th {\n",
       "        text-align: right;\n",
       "    }\n",
       "</style>\n",
       "<table border=\"1\" class=\"dataframe\">\n",
       "  <thead>\n",
       "    <tr style=\"text-align: right;\">\n",
       "      <th></th>\n",
       "      <th>num</th>\n",
       "      <th>f1_score</th>\n",
       "    </tr>\n",
       "  </thead>\n",
       "  <tbody>\n",
       "    <tr>\n",
       "      <th>0</th>\n",
       "      <td>0.99</td>\n",
       "      <td>1.0</td>\n",
       "    </tr>\n",
       "    <tr>\n",
       "      <th>1</th>\n",
       "      <td>0.95</td>\n",
       "      <td>1.0</td>\n",
       "    </tr>\n",
       "    <tr>\n",
       "      <th>2</th>\n",
       "      <td>0.90</td>\n",
       "      <td>1.0</td>\n",
       "    </tr>\n",
       "    <tr>\n",
       "      <th>3</th>\n",
       "      <td>0.75</td>\n",
       "      <td>1.0</td>\n",
       "    </tr>\n",
       "    <tr>\n",
       "      <th>4</th>\n",
       "      <td>0.50</td>\n",
       "      <td>1.0</td>\n",
       "    </tr>\n",
       "    <tr>\n",
       "      <th>5</th>\n",
       "      <td>0.25</td>\n",
       "      <td>1.0</td>\n",
       "    </tr>\n",
       "  </tbody>\n",
       "</table>\n",
       "</div>"
      ],
      "text/plain": [
       "    num  f1_score\n",
       "0  0.99       1.0\n",
       "1  0.95       1.0\n",
       "2  0.90       1.0\n",
       "3  0.75       1.0\n",
       "4  0.50       1.0\n",
       "5  0.25       1.0"
      ]
     },
     "execution_count": 94,
     "metadata": {},
     "output_type": "execute_result"
    }
   ],
   "source": [
    "threshold_df = pd.DataFrame(results_threshold, columns=['num', 'f1_score'])\n",
    "threshold_df"
   ]
  },
  {
   "cell_type": "code",
   "execution_count": 108,
   "metadata": {},
   "outputs": [
    {
     "name": "stdout",
     "output_type": "stream",
     "text": [
      "Precision:  1.0\n",
      "Recall:  1.0\n",
      "F1 Score:  1.0\n"
     ]
    }
   ],
   "source": [
    "# now run with the optimal threshold\n",
    "num = 0.99\n",
    "threshold = anomaly_scores.quantile(num)\n",
    "anomalous = anomaly_scores > threshold\n",
    "binary_labels = anomalous.astype(int)\n",
    "precision, recall,\\\n",
    "    f1_score, _ = precision_recall_fscore_support(\n",
    "        binary_labels, anomalous, average='binary')\n",
    "\n",
    "test = data_converted['value'].values\n",
    "predictions = anomaly_scores.values\n",
    "\n",
    "print(\"Precision: \", precision)\n",
    "print(\"Recall: \", recall)\n",
    "print(\"F1 Score: \", f1_score)"
   ]
  },
  {
   "cell_type": "code",
   "execution_count": 109,
   "metadata": {},
   "outputs": [
    {
     "data": {
      "image/png": "[encoded data removed]",
      "text/plain": [
       "<Figure size 1600x800 with 1 Axes>"
      ]
     },
     "metadata": {},
     "output_type": "display_data"
    }
   ],
   "source": [
    "# Plot the data with anomalies marked in red\n",
    "plt.figure(figsize=(16,8))\n",
    "plt.plot(data_converted['timestamp'],\n",
    "         data_converted['value'])\n",
    "plt.plot(data_converted['timestamp'][anomalous],\n",
    "         data_converted['value'][anomalous], 'ro')\n",
    "plt.title('Anomaly Detection')\n",
    "plt.xlabel('Time')\n",
    "plt.ylabel('Value')\n",
    "plt.savefig(r\"C:\\Users\\vance\\Desktop\\project_folder\\ec2_cpu_detection.png\")\n",
    "plt.show()"
   ]
  },
  {
   "cell_type": "code",
   "execution_count": 110,
   "metadata": {},
   "outputs": [],
   "source": [
    "# load data\n",
    "# data = pd.read_csv(r\"C:\\Users\\vance\\Desktop\\project_folder\\ec2_cpu_utilization_53ea38.csv\")\n",
    "data = pd.read_csv(r\"C:\\Users\\vance\\Desktop\\project_folder\\ec2_network_in_5abac7.csv\")\n",
    "# data = pd.read_csv(r\"C:\\Users\\vance\\Desktop\\project_folder\\elb_request_count_8c0756.csv\")\n",
    "# Exclude datetime column\n",
    "data_values = data.drop('timestamp',axis=1).values\n",
    "\n",
    "# Convert data to float type\n",
    "data_values = data_values.astype('float32')\n",
    "\n",
    "# Create new dataframe with converted values\n",
    "data_converted = pd.DataFrame(data_values,columns=data.columns[1:])\n",
    "\n",
    "# Add back datetime column\n",
    "data_converted.insert(0, 'timestamp',data['timestamp'])\n",
    "\n",
    "data_converted = data_converted.dropna()"
   ]
  },
  {
   "cell_type": "code",
   "execution_count": 99,
   "metadata": {},
   "outputs": [
    {
     "name": "stdout",
     "output_type": "stream",
     "text": [
      "\u001b[1m148/148\u001b[0m \u001b[32m━━━━━━━━━━━━━━━━━━━━\u001b[0m\u001b[37m\u001b[0m \u001b[1m1s\u001b[0m 3ms/step\n",
      "\u001b[1m148/148\u001b[0m \u001b[32m━━━━━━━━━━━━━━━━━━━━\u001b[0m\u001b[37m\u001b[0m \u001b[1m1s\u001b[0m 3ms/step\n",
      "\u001b[1m148/148\u001b[0m \u001b[32m━━━━━━━━━━━━━━━━━━━━\u001b[0m\u001b[37m\u001b[0m \u001b[1m0s\u001b[0m 3ms/step\n",
      "\u001b[1m148/148\u001b[0m \u001b[32m━━━━━━━━━━━━━━━━━━━━\u001b[0m\u001b[37m\u001b[0m \u001b[1m0s\u001b[0m 3ms/step\n",
      "\u001b[1m148/148\u001b[0m \u001b[32m━━━━━━━━━━━━━━━━━━━━\u001b[0m\u001b[37m\u001b[0m \u001b[1m0s\u001b[0m 3ms/step\n"
     ]
    },
    {
     "data": {
      "text/html": [
       "<div>\n",
       "<style scoped>\n",
       "    .dataframe tbody tr th:only-of-type {\n",
       "        vertical-align: middle;\n",
       "    }\n",
       "\n",
       "    .dataframe tbody tr th {\n",
       "        vertical-align: top;\n",
       "    }\n",
       "\n",
       "    .dataframe thead th {\n",
       "        text-align: right;\n",
       "    }\n",
       "</style>\n",
       "<table border=\"1\" class=\"dataframe\">\n",
       "  <thead>\n",
       "    <tr style=\"text-align: right;\">\n",
       "      <th></th>\n",
       "      <th>n</th>\n",
       "      <th>avg_mse</th>\n",
       "    </tr>\n",
       "  </thead>\n",
       "  <tbody>\n",
       "    <tr>\n",
       "      <th>0</th>\n",
       "      <td>0.8</td>\n",
       "      <td>6.157055e+11</td>\n",
       "    </tr>\n",
       "    <tr>\n",
       "      <th>1</th>\n",
       "      <td>0.6</td>\n",
       "      <td>3.370010e-01</td>\n",
       "    </tr>\n",
       "    <tr>\n",
       "      <th>2</th>\n",
       "      <td>0.5</td>\n",
       "      <td>6.157055e+11</td>\n",
       "    </tr>\n",
       "    <tr>\n",
       "      <th>3</th>\n",
       "      <td>0.4</td>\n",
       "      <td>5.654483e+00</td>\n",
       "    </tr>\n",
       "    <tr>\n",
       "      <th>4</th>\n",
       "      <td>0.3</td>\n",
       "      <td>6.777370e-02</td>\n",
       "    </tr>\n",
       "  </tbody>\n",
       "</table>\n",
       "</div>"
      ],
      "text/plain": [
       "     n       avg_mse\n",
       "0  0.8  6.157055e+11\n",
       "1  0.6  3.370010e-01\n",
       "2  0.5  6.157055e+11\n",
       "3  0.4  5.654483e+00\n",
       "4  0.3  6.777370e-02"
      ]
     },
     "execution_count": 99,
     "metadata": {},
     "output_type": "execute_result"
    }
   ],
   "source": [
    "# choose optimal dim\n",
    "# use encoding_dim = total_dim*n\n",
    "# n = [0.8, 0.6, 0.5, 0.4, 0.3]\n",
    "list_dim = [0.8, 0.6, 0.5, 0.4, 0.3]\n",
    "results = []\n",
    "for n in list_dim:\n",
    "    # Exclude datetime column again\n",
    "    data_tensor = tf.convert_to_tensor(data_converted.drop(\n",
    "        'timestamp', axis=1).values, dtype=tf.float32)\n",
    "\n",
    "    # Define the autoencoder model\n",
    "    input_dim = data_converted.shape[1] - 1\n",
    "    total_dim = len(data_converted)\n",
    "    encoding_dim = int(total_dim * n)\n",
    "\n",
    "    input_layer = Input(shape=(input_dim,))\n",
    "    encoder = Dense(encoding_dim, activation='relu')(input_layer)\n",
    "    decoder = Dense(input_dim, activation='relu')(encoder)\n",
    "    autoencoder = Model(inputs=input_layer, outputs=decoder)\n",
    "\n",
    "    # Compile and fit the model\n",
    "    autoencoder.compile(optimizer='adam', loss='mse')\n",
    "    autoencoder.fit(data_tensor, data_tensor, epochs=50,\n",
    "                    batch_size=32, shuffle=True, verbose=0)\n",
    "\n",
    "    # Calculate the reconstruction error for each data point\n",
    "    reconstructions = autoencoder.predict(data_tensor)\n",
    "    mse = tf.reduce_mean(tf.square(data_tensor - reconstructions),\n",
    "                        axis=1)\n",
    "    avg_mse = tf.reduce_mean(mse)\n",
    "    anomaly_scores = pd.Series(mse.numpy(), name='anomaly_scores')\n",
    "    anomaly_scores.index = data_converted.index\n",
    "    results.append([n, float(avg_mse)])\n",
    "results_df = pd.DataFrame(results, columns=['n', 'avg_mse'])\n",
    "results_df"
   ]
  },
  {
   "cell_type": "code",
   "execution_count": 111,
   "metadata": {},
   "outputs": [
    {
     "name": "stdout",
     "output_type": "stream",
     "text": [
      "\u001b[1m148/148\u001b[0m \u001b[32m━━━━━━━━━━━━━━━━━━━━\u001b[0m\u001b[37m\u001b[0m \u001b[1m0s\u001b[0m 3ms/step\n"
     ]
    }
   ],
   "source": [
    "# now run with optimal dimension\n",
    "# Exclude datetime column again\n",
    "data_tensor = tf.convert_to_tensor(data_converted.drop(\n",
    "    'timestamp', axis=1).values, dtype=tf.float32)\n",
    "\n",
    "n = 0.6\n",
    "# Define the autoencoder model\n",
    "input_dim = data_converted.shape[1] - 1\n",
    "total_dim = len(data_converted)\n",
    "encoding_dim = int(total_dim * n)\n",
    "\n",
    "input_layer = Input(shape=(input_dim,))\n",
    "encoder = Dense(encoding_dim, activation='relu')(input_layer)\n",
    "decoder = Dense(input_dim, activation='relu')(encoder)\n",
    "autoencoder = Model(inputs=input_layer, outputs=decoder)\n",
    "\n",
    "# Compile and fit the model\n",
    "autoencoder.compile(optimizer='adam', loss='mse')\n",
    "autoencoder.fit(data_tensor, data_tensor, epochs=50,\n",
    "                batch_size=32, shuffle=True, verbose=0)\n",
    "\n",
    "# Calculate the reconstruction error for each data point\n",
    "reconstructions = autoencoder.predict(data_tensor)\n",
    "mse = tf.reduce_mean(tf.square(data_tensor - reconstructions),\n",
    "                    axis=1)\n",
    "anomaly_scores = pd.Series(mse.numpy(), name='anomaly_scores')\n",
    "anomaly_scores.index = data_converted.index"
   ]
  },
  {
   "cell_type": "code",
   "execution_count": 102,
   "metadata": {},
   "outputs": [
    {
     "data": {
      "text/html": [
       "<div>\n",
       "<style scoped>\n",
       "    .dataframe tbody tr th:only-of-type {\n",
       "        vertical-align: middle;\n",
       "    }\n",
       "\n",
       "    .dataframe tbody tr th {\n",
       "        vertical-align: top;\n",
       "    }\n",
       "\n",
       "    .dataframe thead th {\n",
       "        text-align: right;\n",
       "    }\n",
       "</style>\n",
       "<table border=\"1\" class=\"dataframe\">\n",
       "  <thead>\n",
       "    <tr style=\"text-align: right;\">\n",
       "      <th></th>\n",
       "      <th>num</th>\n",
       "      <th>f1_score</th>\n",
       "    </tr>\n",
       "  </thead>\n",
       "  <tbody>\n",
       "    <tr>\n",
       "      <th>0</th>\n",
       "      <td>0.99</td>\n",
       "      <td>1.0</td>\n",
       "    </tr>\n",
       "    <tr>\n",
       "      <th>1</th>\n",
       "      <td>0.95</td>\n",
       "      <td>1.0</td>\n",
       "    </tr>\n",
       "    <tr>\n",
       "      <th>2</th>\n",
       "      <td>0.90</td>\n",
       "      <td>1.0</td>\n",
       "    </tr>\n",
       "    <tr>\n",
       "      <th>3</th>\n",
       "      <td>0.75</td>\n",
       "      <td>1.0</td>\n",
       "    </tr>\n",
       "    <tr>\n",
       "      <th>4</th>\n",
       "      <td>0.50</td>\n",
       "      <td>1.0</td>\n",
       "    </tr>\n",
       "    <tr>\n",
       "      <th>5</th>\n",
       "      <td>0.25</td>\n",
       "      <td>1.0</td>\n",
       "    </tr>\n",
       "  </tbody>\n",
       "</table>\n",
       "</div>"
      ],
      "text/plain": [
       "    num  f1_score\n",
       "0  0.99       1.0\n",
       "1  0.95       1.0\n",
       "2  0.90       1.0\n",
       "3  0.75       1.0\n",
       "4  0.50       1.0\n",
       "5  0.25       1.0"
      ]
     },
     "execution_count": 102,
     "metadata": {},
     "output_type": "execute_result"
    }
   ],
   "source": [
    "# choose optimal threshold\n",
    "# use num = n\n",
    "# n = [0.99, 0.95, 0.90, 0.75, 0.5, 0.25]\n",
    "list_threshold = [0.99, 0.95, 0.90, 0.75, 0.5, 0.25]\n",
    "results_threshold = []\n",
    "for num in list_threshold:\n",
    "    threshold = anomaly_scores.quantile(num)\n",
    "    anomalous = anomaly_scores > threshold\n",
    "    binary_labels = anomalous.astype(int)\n",
    "    precision, recall,\\\n",
    "        f1_score, _ = precision_recall_fscore_support(\n",
    "            binary_labels, anomalous, average='binary')\n",
    "\n",
    "    test = data_converted['value'].values\n",
    "    predictions = anomaly_scores.values\n",
    "\n",
    "    \"Precision: \", precision\n",
    "    \"Recall: \", recall\n",
    "    \"F1 Score: \", f1_score\n",
    "    results_threshold.append([num, f1_score])\n",
    "threshold_df = pd.DataFrame(results_threshold, columns=['num', 'f1_score'])\n",
    "threshold_df"
   ]
  },
  {
   "cell_type": "code",
   "execution_count": 112,
   "metadata": {},
   "outputs": [
    {
     "name": "stdout",
     "output_type": "stream",
     "text": [
      "Precision:  1.0\n",
      "Recall:  1.0\n",
      "F1 Score:  1.0\n"
     ]
    }
   ],
   "source": [
    "# now run with the optimal threshold\n",
    "num = 0.99\n",
    "threshold = anomaly_scores.quantile(num)\n",
    "anomalous = anomaly_scores > threshold\n",
    "binary_labels = anomalous.astype(int)\n",
    "precision, recall,\\\n",
    "    f1_score, _ = precision_recall_fscore_support(\n",
    "        binary_labels, anomalous, average='binary')\n",
    "\n",
    "test = data_converted['value'].values\n",
    "predictions = anomaly_scores.values\n",
    "\n",
    "print(\"Precision: \", precision)\n",
    "print(\"Recall: \", recall)\n",
    "print(\"F1 Score: \", f1_score)\n"
   ]
  },
  {
   "cell_type": "code",
   "execution_count": 113,
   "metadata": {},
   "outputs": [
    {
     "data": {
      "image/png": "[encoded data removed]",
      "text/plain": [
       "<Figure size 1600x800 with 1 Axes>"
      ]
     },
     "metadata": {},
     "output_type": "display_data"
    }
   ],
   "source": [
    "# Plot the data with anomalies marked in red\n",
    "plt.figure(figsize=(16,8))\n",
    "plt.plot(data_converted['timestamp'],\n",
    "         data_converted['value'])\n",
    "plt.plot(data_converted['timestamp'][anomalous],\n",
    "         data_converted['value'][anomalous], 'ro')\n",
    "plt.title('Anomaly Detection')\n",
    "plt.xlabel('Time')\n",
    "plt.ylabel('Value')\n",
    "plt.savefig(r\"C:\\Users\\vance\\Desktop\\project_folder\\ec2_network_detection.png\")\n",
    "plt.show()"
   ]
  },
  {
   "cell_type": "code",
   "execution_count": 114,
   "metadata": {},
   "outputs": [],
   "source": [
    "# load data\n",
    "# data = pd.read_csv(r\"C:\\Users\\vance\\Desktop\\project_folder\\ec2_cpu_utilization_53ea38.csv\")\n",
    "# data = pd.read_csv(r\"C:\\Users\\vance\\Desktop\\project_folder\\ec2_network_in_5abac7.csv\")\n",
    "data = pd.read_csv(r\"C:\\Users\\vance\\Desktop\\project_folder\\elb_request_count_8c0756.csv\")\n",
    "# Exclude datetime column\n",
    "data_values = data.drop('timestamp',axis=1).values\n",
    "\n",
    "# Convert data to float type\n",
    "data_values = data_values.astype('float32')\n",
    "\n",
    "# Create new dataframe with converted values\n",
    "data_converted = pd.DataFrame(data_values,columns=data.columns[1:])\n",
    "\n",
    "# Add back datetime column\n",
    "data_converted.insert(0, 'timestamp',data['timestamp'])\n",
    "\n",
    "data_converted = data_converted.dropna()\n"
   ]
  },
  {
   "cell_type": "code",
   "execution_count": 115,
   "metadata": {},
   "outputs": [
    {
     "name": "stdout",
     "output_type": "stream",
     "text": [
      "\u001b[1m126/126\u001b[0m \u001b[32m━━━━━━━━━━━━━━━━━━━━\u001b[0m\u001b[37m\u001b[0m \u001b[1m0s\u001b[0m 3ms/step\n",
      "\u001b[1m126/126\u001b[0m \u001b[32m━━━━━━━━━━━━━━━━━━━━\u001b[0m\u001b[37m\u001b[0m \u001b[1m0s\u001b[0m 3ms/step\n",
      "\u001b[1m126/126\u001b[0m \u001b[32m━━━━━━━━━━━━━━━━━━━━\u001b[0m\u001b[37m\u001b[0m \u001b[1m0s\u001b[0m 3ms/step\n",
      "\u001b[1m126/126\u001b[0m \u001b[32m━━━━━━━━━━━━━━━━━━━━\u001b[0m\u001b[37m\u001b[0m \u001b[1m0s\u001b[0m 3ms/step\n",
      "\u001b[1m126/126\u001b[0m \u001b[32m━━━━━━━━━━━━━━━━━━━━\u001b[0m\u001b[37m\u001b[0m \u001b[1m0s\u001b[0m 3ms/step\n"
     ]
    },
    {
     "data": {
      "text/html": [
       "<div>\n",
       "<style scoped>\n",
       "    .dataframe tbody tr th:only-of-type {\n",
       "        vertical-align: middle;\n",
       "    }\n",
       "\n",
       "    .dataframe tbody tr th {\n",
       "        vertical-align: top;\n",
       "    }\n",
       "\n",
       "    .dataframe thead th {\n",
       "        text-align: right;\n",
       "    }\n",
       "</style>\n",
       "<table border=\"1\" class=\"dataframe\">\n",
       "  <thead>\n",
       "    <tr style=\"text-align: right;\">\n",
       "      <th></th>\n",
       "      <th>n</th>\n",
       "      <th>avg_mse</th>\n",
       "    </tr>\n",
       "  </thead>\n",
       "  <tbody>\n",
       "    <tr>\n",
       "      <th>0</th>\n",
       "      <td>0.8</td>\n",
       "      <td>7.033914e+03</td>\n",
       "    </tr>\n",
       "    <tr>\n",
       "      <th>1</th>\n",
       "      <td>0.6</td>\n",
       "      <td>8.559126e-04</td>\n",
       "    </tr>\n",
       "    <tr>\n",
       "      <th>2</th>\n",
       "      <td>0.5</td>\n",
       "      <td>7.033914e+03</td>\n",
       "    </tr>\n",
       "    <tr>\n",
       "      <th>3</th>\n",
       "      <td>0.4</td>\n",
       "      <td>1.055250e-06</td>\n",
       "    </tr>\n",
       "    <tr>\n",
       "      <th>4</th>\n",
       "      <td>0.3</td>\n",
       "      <td>1.866563e-07</td>\n",
       "    </tr>\n",
       "  </tbody>\n",
       "</table>\n",
       "</div>"
      ],
      "text/plain": [
       "     n       avg_mse\n",
       "0  0.8  7.033914e+03\n",
       "1  0.6  8.559126e-04\n",
       "2  0.5  7.033914e+03\n",
       "3  0.4  1.055250e-06\n",
       "4  0.3  1.866563e-07"
      ]
     },
     "execution_count": 115,
     "metadata": {},
     "output_type": "execute_result"
    }
   ],
   "source": [
    "# choose optimal dim\n",
    "# use encoding_dim = total_dim*n\n",
    "# n = [0.8, 0.6, 0.5, 0.4, 0.3]\n",
    "list_dim = [0.8, 0.6, 0.5, 0.4, 0.3]\n",
    "results = []\n",
    "for n in list_dim:\n",
    "    # Exclude datetime column again\n",
    "    data_tensor = tf.convert_to_tensor(data_converted.drop(\n",
    "        'timestamp', axis=1).values, dtype=tf.float32)\n",
    "\n",
    "    # Define the autoencoder model\n",
    "    input_dim = data_converted.shape[1] - 1\n",
    "    total_dim = len(data_converted)\n",
    "    encoding_dim = int(total_dim * n)\n",
    "\n",
    "    input_layer = Input(shape=(input_dim,))\n",
    "    encoder = Dense(encoding_dim, activation='relu')(input_layer)\n",
    "    decoder = Dense(input_dim, activation='relu')(encoder)\n",
    "    autoencoder = Model(inputs=input_layer, outputs=decoder)\n",
    "\n",
    "    # Compile and fit the model\n",
    "    autoencoder.compile(optimizer='adam', loss='mse')\n",
    "    autoencoder.fit(data_tensor, data_tensor, epochs=50,\n",
    "                    batch_size=32, shuffle=True, verbose=0)\n",
    "\n",
    "    # Calculate the reconstruction error for each data point\n",
    "    reconstructions = autoencoder.predict(data_tensor)\n",
    "    mse = tf.reduce_mean(tf.square(data_tensor - reconstructions),\n",
    "                        axis=1)\n",
    "    avg_mse = tf.reduce_mean(mse)\n",
    "    anomaly_scores = pd.Series(mse.numpy(), name='anomaly_scores')\n",
    "    anomaly_scores.index = data_converted.index\n",
    "    results.append([n, float(avg_mse)])\n",
    "results_df = pd.DataFrame(results, columns=['n', 'avg_mse'])\n",
    "results_df\n"
   ]
  },
  {
   "cell_type": "code",
   "execution_count": null,
   "metadata": {},
   "outputs": [],
   "source": [
    "# now run with optimal dimension\n",
    "# Exclude datetime column again\n",
    "data_tensor = tf.convert_to_tensor(data_converted.drop(\n",
    "    'timestamp', axis=1).values, dtype=tf.float32)\n",
    "\n",
    "n = 0.8\n",
    "# Define the autoencoder model\n",
    "input_dim = data_converted.shape[1] - 1\n",
    "total_dim = len(data_converted)\n",
    "encoding_dim = int(total_dim * n)\n",
    "\n",
    "input_layer = Input(shape=(input_dim,))\n",
    "encoder = Dense(encoding_dim, activation='relu')(input_layer)\n",
    "decoder = Dense(input_dim, activation='relu')(encoder)\n",
    "autoencoder = Model(inputs=input_layer, outputs=decoder)\n",
    "\n",
    "# Compile and fit the model\n",
    "autoencoder.compile(optimizer='adam', loss='mse')\n",
    "autoencoder.fit(data_tensor, data_tensor, epochs=50,\n",
    "                batch_size=32, shuffle=True, verbose=0)\n",
    "\n",
    "# Calculate the reconstruction error for each data point\n",
    "reconstructions = autoencoder.predict(data_tensor)\n",
    "mse = tf.reduce_mean(tf.square(data_tensor - reconstructions),\n",
    "                    axis=1)\n",
    "anomaly_scores = pd.Series(mse.numpy(), name='anomaly_scores')\n",
    "anomaly_scores.index = data_converted.index\n"
   ]
  },
  {
   "cell_type": "code",
   "execution_count": null,
   "metadata": {},
   "outputs": [],
   "source": [
    "# choose optimal threshold\n",
    "# use num = n\n",
    "# n = [0.99, 0.95, 0.90, 0.75, 0.5, 0.25]\n",
    "list_threshold = [0.99, 0.95, 0.90, 0.75, 0.5, 0.25]\n",
    "results_threshold = []\n",
    "for num in list_threshold:\n",
    "    threshold = anomaly_scores.quantile(num)\n",
    "    anomalous = anomaly_scores > threshold\n",
    "    binary_labels = anomalous.astype(int)\n",
    "    precision, recall,\\\n",
    "        f1_score, _ = precision_recall_fscore_support(\n",
    "            binary_labels, anomalous, average='binary')\n",
    "\n",
    "    test = data_converted['value'].values\n",
    "    predictions = anomaly_scores.values\n",
    "\n",
    "    \"Precision: \", precision\n",
    "    \"Recall: \", recall\n",
    "    \"F1 Score: \", f1_score\n",
    "    results_threshold.append([num, f1_score])\n",
    "threshold_df = pd.DataFrame(results_threshold, columns=['num', 'f1_score'])\n",
    "threshold_df"
   ]
  },
  {
   "cell_type": "code",
   "execution_count": null,
   "metadata": {},
   "outputs": [],
   "source": [
    "# now run with the optimal threshold\n",
    "num = 0.95\n",
    "threshold = anomaly_scores.quantile(num)\n",
    "anomalous = anomaly_scores > threshold\n",
    "binary_labels = anomalous.astype(int)\n",
    "precision, recall,\\\n",
    "    f1_score, _ = precision_recall_fscore_support(\n",
    "        binary_labels, anomalous, average='binary')\n",
    "\n",
    "test = data_converted['value'].values\n",
    "predictions = anomaly_scores.values\n",
    "\n",
    "print(\"Precision: \", precision)\n",
    "print(\"Recall: \", recall)\n",
    "print(\"F1 Score: \", f1_score)"
   ]
  },
  {
   "cell_type": "code",
   "execution_count": null,
   "metadata": {},
   "outputs": [],
   "source": [
    "# Plot the data with anomalies marked in red\n",
    "plt.figure(figsize=(16,8))\n",
    "plt.plot(data_converted['timestamp'],\n",
    "         data_converted['value'])\n",
    "plt.plot(data_converted['timestamp'][anomalous],\n",
    "         data_converted['value'][anomalous], 'ro')\n",
    "plt.title('Anomaly Detection')\n",
    "plt.xlabel('Time')\n",
    "plt.ylabel('Value')\n",
    "plt.show()\n",
    "plt.savefig(r\"C:\\Users\\vance\\Desktop\\project_folder\\elb_req_detection.png\")"
   ]
  }
 ],
 "metadata": {
  "kernelspec": {
   "display_name": "Python 3",
   "language": "python",
   "name": "python3"
  },
  "language_info": {
   "codemirror_mode": {
    "name": "ipython",
    "version": 3
   },
   "file_extension": ".py",
   "mimetype": "text/x-python",
   "name": "python",
   "nbconvert_exporter": "python",
   "pygments_lexer": "ipython3",
   "version": "3.10.16"
  }
 },
 "nbformat": 4,
 "nbformat_minor": 2
}
